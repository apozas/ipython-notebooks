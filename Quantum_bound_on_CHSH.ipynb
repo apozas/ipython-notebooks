{
 "cells": [
  {
   "cell_type": "markdown",
   "metadata": {},
   "source": [
    "This is a simple example on how to optimize Bell inequalities on the set of quantum correlations using [ncpol2sdpa](https://ncpol2sdpa.readthedocs.io/)"
   ]
  },
  {
   "cell_type": "code",
   "execution_count": 1,
   "metadata": {},
   "outputs": [],
   "source": [
    "from ncpol2sdpa import flatten, SdpRelaxation, generate_operators, \\\n",
    "                       projective_measurement_constraints"
   ]
  },
  {
   "cell_type": "code",
   "execution_count": 2,
   "metadata": {},
   "outputs": [],
   "source": [
    "def generate_noncommuting_measurements(party, label):\n",
    "    \"\"\"Generates the list of symbolic variables representing the measurements\n",
    "    for a given party. The variables are treated as noncommuting.\n",
    "\n",
    "    :param party: configuration indicating the configuration of number m\n",
    "                  of measurements and outcomes d for each measurement. It is a\n",
    "                  list with m integers, each of them representing the number of\n",
    "                  outcomes of the corresponding  measurement.\n",
    "    :type party: list of int\n",
    "    :param label: label to represent the given party\n",
    "    :type label: str\n",
    "\n",
    "    :returns: list of sympy.core.symbol.Symbol\n",
    "    \"\"\"\n",
    "    measurements = []\n",
    "    for i, p in enumerate(party):\n",
    "        measurements.append(generate_operators(label + '_%s' % i, p - 1,\n",
    "                                               hermitian=True))\n",
    "    return measurements"
   ]
  },
  {
   "cell_type": "markdown",
   "metadata": {},
   "source": [
    "First, we define how many inputs and outputs each party will have, and define a set of projectors for each of them"
   ]
  },
  {
   "cell_type": "code",
   "execution_count": 3,
   "metadata": {},
   "outputs": [],
   "source": [
    "oA = [2, 2]    # Number of outputs of each of Alice's measurements\n",
    "oB = [2, 2]    # Number of outputs of each of Bob's measurements"
   ]
  },
  {
   "cell_type": "code",
   "execution_count": 8,
   "metadata": {},
   "outputs": [],
   "source": [
    "# Alice's measurements\n",
    "measA = generate_noncommuting_measurements(oA, 'A')\n",
    "        \n",
    "# Bob's measurements\n",
    "measB = generate_noncommuting_measurements(oB, 'B')\n",
    "\n",
    "substitutions = projective_measurement_constraints([measA, measB])"
   ]
  },
  {
   "cell_type": "markdown",
   "metadata": {},
   "source": [
    "Instead of projectors, it is (in this case) more convenient to have the operators represent quantum observables. We do this by changing the substitutions for the square of the operators."
   ]
  },
  {
   "cell_type": "code",
   "execution_count": 8,
   "metadata": {},
   "outputs": [],
   "source": [
    "for measurement in flatten(measA+measB):\n",
    "    substitutions[measurement**2] = 1"
   ]
  },
  {
   "cell_type": "markdown",
   "metadata": {},
   "source": [
    "Now we can define the Bell operator one wants to optimize"
   ]
  },
  {
   "cell_type": "code",
   "execution_count": 9,
   "metadata": {},
   "outputs": [],
   "source": [
    "CHSH = (measA[0][0]*(measB[0][0] + measB[1][0])\n",
    "        + measA[1][0]*(measB[0][0] - measB[1][0]))"
   ]
  },
  {
   "cell_type": "markdown",
   "metadata": {},
   "source": [
    "And finally, generate the SDP relaxation of the problem and solve it"
   ]
  },
  {
   "cell_type": "code",
   "execution_count": 13,
   "metadata": {},
   "outputs": [
    {
     "name": "stdout",
     "output_type": "stream",
     "text": [
      "The problem has 4 noncommuting Hermitian variables\n",
      "Calculating block structure...\n",
      "Estimated number of SDP variables: 14\n",
      "Generating moment matrix...\n",
      "Reduced number of SDP variables: 10 10 (done: 107.14%, ETA 00:00:-0.0)\n",
      "\n",
      "Problem\n",
      "  Name                   :                 \n",
      "  Objective sense        : min             \n",
      "  Type                   : CONIC (conic optimization problem)\n",
      "  Constraints            : 10              \n",
      "  Cones                  : 0               \n",
      "  Scalar variables       : 0               \n",
      "  Matrix variables       : 1               \n",
      "  Integer variables      : 0               \n",
      "\n",
      "Optimizer started.\n",
      "Presolve started.\n",
      "Linear dependency checker started.\n",
      "Linear dependency checker terminated.\n",
      "Eliminator started.\n",
      "Freed constraints in eliminator : 0\n",
      "Eliminator terminated.\n",
      "Eliminator - tries                  : 1                 time                   : 0.00            \n",
      "Lin. dep.  - tries                  : 1                 time                   : 0.00            \n",
      "Lin. dep.  - number                 : 0               \n",
      "Presolve terminated. Time: 0.01    \n",
      "Problem\n",
      "  Name                   :                 \n",
      "  Objective sense        : min             \n",
      "  Type                   : CONIC (conic optimization problem)\n",
      "  Constraints            : 10              \n",
      "  Cones                  : 0               \n",
      "  Scalar variables       : 0               \n",
      "  Matrix variables       : 1               \n",
      "  Integer variables      : 0               \n",
      "\n",
      "Optimizer  - threads                : 2               \n",
      "Optimizer  - solved problem         : the primal      \n",
      "Optimizer  - Constraints            : 10\n",
      "Optimizer  - Cones                  : 0\n",
      "Optimizer  - Scalar variables       : 0                 conic                  : 0               \n",
      "Optimizer  - Semi-definite variables: 1                 scalarized             : 15              \n",
      "Factor     - setup time             : 0.00              dense det. time        : 0.00            \n",
      "Factor     - ML order time          : 0.00              GP order time          : 0.00            \n",
      "Factor     - nonzeros before factor : 55                after factor           : 55              \n",
      "Factor     - dense dim.             : 0                 flops                  : 1.21e+03        \n",
      "ITE PFEAS    DFEAS    GFEAS    PRSTATUS   POBJ              DOBJ              MU       TIME  \n",
      "0   1.0e+00  0.0e+00  6.0e+00  0.00e+00   5.000000000e+00   0.000000000e+00   1.0e+00  0.06  \n",
      "1   1.2e-01  2.2e-16  4.2e-01  5.00e-01   3.270106643e+00   2.625130841e+00   1.2e-01  0.10  \n",
      "2   1.2e-04  3.3e-16  9.6e-06  9.52e-01   2.829156214e+00   2.828260903e+00   1.2e-04  0.10  \n",
      "3   1.3e-09  4.6e-16  1.0e-10  1.00e+00   2.828427125e+00   2.828427118e+00   1.3e-09  0.10  \n",
      "Optimizer terminated. Time: 0.13    \n",
      "\n",
      "-2.828427124561677 -2.8284271184049814\n"
     ]
    }
   ],
   "source": [
    "sdp = SdpRelaxation(flatten([measA, measB]), verbose=2)\n",
    "sdp.get_relaxation(level=1,                        # Initial NPA level of the moment matrix\n",
    "                   objective=-CHSH,                # Objective function\n",
    "                   substitutions=substitutions     # Idempotency and commutation rules\n",
    "                   )\n",
    "sdp.solve(\"mosek\")\n",
    "print(sdp.primal, sdp.dual)"
   ]
  }
 ],
 "metadata": {
  "kernelspec": {
   "display_name": "Python 3",
   "language": "python",
   "name": "python3"
  },
  "language_info": {
   "codemirror_mode": {
    "name": "ipython",
    "version": 3
   },
   "file_extension": ".py",
   "mimetype": "text/x-python",
   "name": "python",
   "nbconvert_exporter": "python",
   "pygments_lexer": "ipython3",
   "version": "3.8.2"
  }
 },
 "nbformat": 4,
 "nbformat_minor": 4
}
